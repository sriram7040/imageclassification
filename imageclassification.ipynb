{
  "nbformat": 4,
  "nbformat_minor": 0,
  "metadata": {
    "colab": {
      "name": "imageclassification.ipynb",
      "provenance": [],
      "collapsed_sections": [],
      "include_colab_link": true
    },
    "kernelspec": {
      "name": "python3",
      "display_name": "Python 3"
    }
  },
  "cells": [
    {
      "cell_type": "markdown",
      "metadata": {
        "id": "view-in-github",
        "colab_type": "text"
      },
      "source": [
        "<a href=\"https://colab.research.google.com/github/sriram7040/imageclassification/blob/main/imageclassification.ipynb\" target=\"_parent\"><img src=\"https://colab.research.google.com/assets/colab-badge.svg\" alt=\"Open In Colab\"/></a>"
      ]
    },
    {
      "cell_type": "code",
      "metadata": {
        "id": "6MIVZmOKZ7o9",
        "colab": {
          "base_uri": "https://localhost:8080/"
        },
        "outputId": "05f57b67-8702-4a15-9d46-d71d8b84badd"
      },
      "source": [
        "!pip install bing-image-downloader"
      ],
      "execution_count": null,
      "outputs": [
        {
          "output_type": "stream",
          "name": "stdout",
          "text": [
            "Requirement already satisfied: bing-image-downloader in /usr/local/lib/python3.7/dist-packages (1.1.1)\n"
          ]
        }
      ]
    },
    {
      "cell_type": "code",
      "metadata": {
        "id": "dnzaajj-lYKT"
      },
      "source": [
        ""
      ],
      "execution_count": null,
      "outputs": []
    },
    {
      "cell_type": "code",
      "metadata": {
        "id": "jSczBrJhT26q",
        "colab": {
          "base_uri": "https://localhost:8080/"
        },
        "outputId": "525d21b0-4453-47fe-c2b8-73457cb7539b"
      },
      "source": [
        "from bing_image_downloader import downloader\n",
        "downloader.download(\"motorbikes\",limit=30,output_dir='images',adult_filter_off=True)"
      ],
      "execution_count": null,
      "outputs": [
        {
          "output_type": "stream",
          "name": "stdout",
          "text": [
            "[%] Downloading Images to /content/images/motorbikes\n",
            "\n",
            "\n",
            "[!!]Indexing page: 1\n",
            "\n",
            "[%] Indexed 31 Images on Page 1.\n",
            "\n",
            "===============================================\n",
            "\n",
            "[%] Downloading Image #1 from http://img683.imageshack.us/img683/1755/bmwr75519692.jpg\n",
            "[%] File Downloaded !\n",
            "\n",
            "[%] Downloading Image #2 from https://www.tigitmotorbikes.com/wp-content/uploads/2016/05/Yamaha-NVX.jpg\n",
            "[%] File Downloaded !\n",
            "\n",
            "[%] Downloading Image #3 from http://www.motorbikesindia.com/wp-content/uploads/2016/08/ten-beautiful-motorbikes-india.jpg\n",
            "[%] File Downloaded !\n",
            "\n",
            "[%] Downloading Image #4 from http://img98.imageshack.us/img98/2167/bmwr9061974.jpg\n",
            "[%] File Downloaded !\n",
            "\n",
            "[%] Downloading Image #5 from https://i.pinimg.com/originals/09/9f/a5/099fa53ea0d5e6bfcc1976fab4669501.jpg\n",
            "[%] File Downloaded !\n",
            "\n",
            "[%] Downloading Image #6 from https://s-media-cache-ak0.pinimg.com/originals/48/ff/68/48ff68b5f7a7855608ad9e4fc55da685.jpg\n",
            "[%] File Downloaded !\n",
            "\n",
            "[%] Downloading Image #7 from https://i.pinimg.com/originals/f9/f2/f2/f9f2f2d42c087751f03cb3d99b70c004.gif\n",
            "[%] File Downloaded !\n",
            "\n",
            "[%] Downloading Image #8 from https://www.bing.com/th/id/OGC.041828fdba39d72a1215f8cb90d2fd95?pid=1.7&amp;rurl=https%3a%2f%2fi.pinimg.com%2foriginals%2ff9%2ff2%2ff2%2ff9f2f2d42c087751f03cb3d99b70c004.gif&amp;ehk=WfqnWW4G8e%2fEBWPFQtJb6ppY%2bXu4JwAWeWWIueSVKJQ%3d\n",
            "[!] Issue getting: https://www.bing.com/th/id/OGC.041828fdba39d72a1215f8cb90d2fd95?pid=1.7&amp;rurl=https%3a%2f%2fi.pinimg.com%2foriginals%2ff9%2ff2%2ff2%2ff9f2f2d42c087751f03cb3d99b70c004.gif&amp;ehk=WfqnWW4G8e%2fEBWPFQtJb6ppY%2bXu4JwAWeWWIueSVKJQ%3d\n",
            "[!] Error:: HTTP Error 404: Not Found\n",
            "[%] Downloading Image #8 from https://sfuncube.com/wp-content/uploads/2021/01/Approved-Motorbikes-in-Sydney.jpg\n",
            "[%] File Downloaded !\n",
            "\n",
            "[%] Downloading Image #9 from https://classic-motorbikes.net/wp-content/uploads/2012/01/CB1100R_3.jpg\n",
            "[%] File Downloaded !\n",
            "\n",
            "[%] Downloading Image #10 from https://electrek.co/wp-content/uploads/sites/3/2019/02/onyx-rcr-3.jpg?quality=82&amp;strip=all&amp;w=960\n",
            "[%] File Downloaded !\n",
            "\n",
            "[%] Downloading Image #11 from https://i.pinimg.com/originals/8e/d8/d9/8ed8d98d96916fb63e3166a54d037566.jpg\n",
            "[%] File Downloaded !\n",
            "\n",
            "[%] Downloading Image #12 from https://i.pinimg.com/736x/52/43/cc/5243cc0dc0b730e11fd9132e6efca703.jpg\n",
            "[%] File Downloaded !\n",
            "\n",
            "[%] Downloading Image #13 from https://blog.bikroy.com/wp-content/uploads/2019/12/Suzuki-GSX-R150.png\n",
            "[%] File Downloaded !\n",
            "\n",
            "[%] Downloading Image #14 from https://i.pinimg.com/originals/ee/16/2b/ee162b6a877a5668c54b0a80b924d257.jpg\n",
            "[%] File Downloaded !\n",
            "\n",
            "[%] Downloading Image #15 from https://mcn-images.bauersecure.com/pagefiles/666815/brough-superior-ss100.jpg\n",
            "[%] File Downloaded !\n",
            "\n",
            "[%] Downloading Image #16 from http://gotcyber.net/images/9-motorbike-cute-photo.jpg\n",
            "[%] File Downloaded !\n",
            "\n",
            "[%] Downloading Image #17 from https://lh6.googleusercontent.com/proxy/Nq08bmZi0u6NiviuCsDaY77Xw2Rz9vVC6Bt9msUdYk9QNeocneEf_Bm7dPHLCgY8SGZdmvIUxbhokpcVACZvJ_-c6qmYJubVNsRy6k0=s0-d\n",
            "[%] File Downloaded !\n",
            "\n",
            "[%] Downloading Image #18 from https://i.pinimg.com/originals/73/99/4e/73994e528f6ae6bd9a9f6e70c21f2eca.jpg\n",
            "[%] File Downloaded !\n",
            "\n",
            "[%] Downloading Image #19 from https://webuyanybike.com/blog/we-buy-motorbikes/assets/images/bikes/Yamaha R6 - webuyanybike - we buy any bike - sell motorbike - sell my bike.jpg\n",
            "[!] Issue getting: https://webuyanybike.com/blog/we-buy-motorbikes/assets/images/bikes/Yamaha R6 - webuyanybike - we buy any bike - sell motorbike - sell my bike.jpg\n",
            "[!] Error:: URL can't contain control characters. '/blog/we-buy-motorbikes/assets/images/bikes/Yamaha R6 - webuyanybike - we buy any bike - sell motorbike - sell my bike.jpg' (found at least ' ')\n",
            "[%] Downloading Image #19 from https://i.pinimg.com/originals/9b/90/d2/9b90d28ff76558dde3937f593508efcc.jpg\n",
            "[%] File Downloaded !\n",
            "\n",
            "[%] Downloading Image #20 from http://www.classic-motorbikes.com/wp-content/uploads/2015/08/pulse_classic-motorbikes_19-1080x675.jpg\n",
            "[!] Issue getting: http://www.classic-motorbikes.com/wp-content/uploads/2015/08/pulse_classic-motorbikes_19-1080x675.jpg\n",
            "[!] Error:: HTTP Error 403: Forbidden\n",
            "[%] Downloading Image #20 from https://classic-motorbikes.net/wp-content/uploads/2012/03/RD700-statics-036.jpg\n",
            "[%] File Downloaded !\n",
            "\n",
            "[%] Downloading Image #21 from https://i.pinimg.com/originals/9e/25/bd/9e25bd2ed43b9625d98bf60048d802b2.jpg\n",
            "[%] File Downloaded !\n",
            "\n",
            "[%] Downloading Image #22 from https://bikeadvice.in/wp-content/uploads/2016/12/Kawasaki-KX100-Motocross-dirt-bike-pic-1-1020x681.jpg\n",
            "[%] File Downloaded !\n",
            "\n",
            "[%] Downloading Image #23 from https://www.yankodesign.com/images/design_news/2016/08/typhoon_04.jpg\n",
            "[%] File Downloaded !\n",
            "\n",
            "[%] Downloading Image #24 from https://images.squarespace-cdn.com/content/v1/5390ffd3e4b0097a84e19b14/1558673501417-2Y0JZ4OS4C6HOLZJA4RL/ke17ZwdGBToddI8pDm48kBiFFF0426eZA9Lf1nHvmwNZw-zPPgdn4jUwVcJE1ZvWQUxwkmyExglNqGp0IvTJZamWLI2zvYWH8K3-s_4yszcp2ryTI0HqTOaaUohrI8PIhr1X1Cgf9-UrAGTDTCptf9p1UDZdv1iI1xufGEBNC3cKMshLAGzx4R3EDFOm1kBS/Zero+SR%2FF\n",
            "[Error]Invalid image, not saving https://images.squarespace-cdn.com/content/v1/5390ffd3e4b0097a84e19b14/1558673501417-2Y0JZ4OS4C6HOLZJA4RL/ke17ZwdGBToddI8pDm48kBiFFF0426eZA9Lf1nHvmwNZw-zPPgdn4jUwVcJE1ZvWQUxwkmyExglNqGp0IvTJZamWLI2zvYWH8K3-s_4yszcp2ryTI0HqTOaaUohrI8PIhr1X1Cgf9-UrAGTDTCptf9p1UDZdv1iI1xufGEBNC3cKMshLAGzx4R3EDFOm1kBS/Zero+SR%2FF\n",
            "\n",
            "[!] Issue getting: https://images.squarespace-cdn.com/content/v1/5390ffd3e4b0097a84e19b14/1558673501417-2Y0JZ4OS4C6HOLZJA4RL/ke17ZwdGBToddI8pDm48kBiFFF0426eZA9Lf1nHvmwNZw-zPPgdn4jUwVcJE1ZvWQUxwkmyExglNqGp0IvTJZamWLI2zvYWH8K3-s_4yszcp2ryTI0HqTOaaUohrI8PIhr1X1Cgf9-UrAGTDTCptf9p1UDZdv1iI1xufGEBNC3cKMshLAGzx4R3EDFOm1kBS/Zero+SR%2FF\n",
            "[!] Error:: Invalid image, not saving https://images.squarespace-cdn.com/content/v1/5390ffd3e4b0097a84e19b14/1558673501417-2Y0JZ4OS4C6HOLZJA4RL/ke17ZwdGBToddI8pDm48kBiFFF0426eZA9Lf1nHvmwNZw-zPPgdn4jUwVcJE1ZvWQUxwkmyExglNqGp0IvTJZamWLI2zvYWH8K3-s_4yszcp2ryTI0HqTOaaUohrI8PIhr1X1Cgf9-UrAGTDTCptf9p1UDZdv1iI1xufGEBNC3cKMshLAGzx4R3EDFOm1kBS/Zero+SR%2FF\n",
            "\n",
            "[%] Downloading Image #24 from https://s3-eu-west-1.amazonaws.com/motul-production2/images/masonry_bricks/pictures/47613/original/2018_02_WSBK_Thailand_13747.JPG?1522929547\n",
            "[%] File Downloaded !\n",
            "\n",
            "[%] Downloading Image #25 from http://gotcyber.net/images/4-motorcycle-cool-photo.jpg\n",
            "[%] File Downloaded !\n",
            "\n",
            "[%] Downloading Image #26 from https://i.pinimg.com/originals/31/a9/81/31a9812e03bd76f185900a003dd244b8.jpg\n",
            "[%] File Downloaded !\n",
            "\n",
            "[%] Downloading Image #27 from https://engineered.thyssenkrupp.com/wp/wp-content/uploads/2019/07/190725_twitter_CarbonComponents.jpg\n",
            "[%] File Downloaded !\n",
            "\n",
            "\n",
            "\n",
            "[!!]Indexing page: 2\n",
            "\n",
            "[%] Indexed 36 Images on Page 2.\n",
            "\n",
            "===============================================\n",
            "\n",
            "[%] Downloading Image #28 from http://img683.imageshack.us/img683/1755/bmwr75519692.jpg\n",
            "[%] File Downloaded !\n",
            "\n",
            "[%] Downloading Image #29 from https://www.tigitmotorbikes.com/wp-content/uploads/2016/05/Yamaha-NVX.jpg\n",
            "[%] File Downloaded !\n",
            "\n",
            "[%] Downloading Image #30 from http://www.motorbikesindia.com/wp-content/uploads/2016/08/ten-beautiful-motorbikes-india.jpg\n",
            "[%] File Downloaded !\n",
            "\n",
            "\n",
            "\n",
            "[%] Done. Downloaded 30 images.\n",
            "===============================================\n",
            "\n",
            "Please show your support here\n",
            "https://www.buymeacoffee.com/gurugaurav\n",
            "\n",
            "===============================================\n",
            "\n"
          ]
        }
      ]
    },
    {
      "cell_type": "code",
      "metadata": {
        "id": "_clW-odWUtU6",
        "colab": {
          "base_uri": "https://localhost:8080/"
        },
        "outputId": "ecb9d9e5-1404-4488-edcc-0ef5efb30c88"
      },
      "source": [
        "from bing_image_downloader import downloader\n",
        "downloader.download(\"train\",limit=30,output_dir='images',adult_filter_off=True)"
      ],
      "execution_count": null,
      "outputs": [
        {
          "output_type": "stream",
          "name": "stdout",
          "text": [
            "[%] Downloading Images to /content/images/train\n",
            "\n",
            "\n",
            "[!!]Indexing page: 1\n",
            "\n",
            "[%] Indexed 30 Images on Page 1.\n",
            "\n",
            "===============================================\n",
            "\n",
            "[%] Downloading Image #1 from https://i.pinimg.com/originals/1e/c5/a0/1ec5a03b40dcf61a300f08731f45b190.jpg\n",
            "[%] File Downloaded !\n",
            "\n",
            "[%] Downloading Image #2 from https://true-romania.tours/wp-content/uploads/2017/05/steam-train.jpg\n",
            "[%] File Downloaded !\n",
            "\n",
            "[%] Downloading Image #3 from http://files.sysers.com/cp/upload/ccfj_eventrentalsystems/editor/images/trackless%20train%20rentals%20in%20clovis,%20ca.png\n",
            "[%] File Downloaded !\n",
            "\n",
            "[%] Downloading Image #4 from https://lh3.googleusercontent.com/eZEYQjtvh4IZYXHsnJGaKFjY7D3G4Ti1V1Ae_e-vlNFrg0x4g6duxSmpiCpZR7vndLG8sbIaWu2UxNbWipIEt0dT=s1000\n",
            "[%] File Downloaded !\n",
            "\n",
            "[%] Downloading Image #5 from http://www.highlandernews.org/wp-content/uploads/2015/11/ops.train_.calhigh.jpg\n",
            "[%] File Downloaded !\n",
            "\n",
            "[%] Downloading Image #6 from https://i.pinimg.com/originals/18/ae/1c/18ae1c39094ac55bcf3fee5c9a0cf469.jpg\n",
            "[%] File Downloaded !\n",
            "\n",
            "[%] Downloading Image #7 from https://thumbs.dreamstime.com/z/old-train-copenhagen-denamrk-every-summer-steam-driving-true-both-turists-danish-familys-139388841.jpg\n",
            "[%] File Downloaded !\n",
            "\n",
            "[%] Downloading Image #8 from https://s22658.pcdn.co/wp-content/uploads/2021/06/Northern-Nevada-Railway-Ely-Chris-Moran-TravelNevada_scaled-1024x680.jpeg.optimal.jpeg\n",
            "[%] File Downloaded !\n",
            "\n",
            "[%] Downloading Image #9 from https://i.pinimg.com/originals/60/89/b6/6089b6471338db32a1327d72cbe0d722.jpg\n",
            "[%] File Downloaded !\n",
            "\n",
            "[%] Downloading Image #10 from https://i.ytimg.com/vi/FJlql77V-Ns/maxresdefault.jpg\n",
            "[%] File Downloaded !\n",
            "\n",
            "[%] Downloading Image #11 from https://usercontent1.hubstatic.com/7960378_f496.jpg\n",
            "[%] File Downloaded !\n",
            "\n",
            "[%] Downloading Image #12 from https://s.yimg.com/ny/api/res/1.2/4Xda.2qXal8Ut2CojDzPUA--/YXBwaWQ9aGlnaGxhbmRlcjt3PTEyODA7aD05NjA-/https://s.yimg.com/uu/api/res/1.2/I6yHbwOgN2WLvnY2ZsMBxg--~B/aD05MDA7dz0xMjAwO3NtPTE7YXBwaWQ9eXRhY2h5b24-/http://media.zenfs.com/en-US/homerun/refinery29_778/b9bdb5e3569ef445ba02a0c65721a9c7\n",
            "[%] File Downloaded !\n",
            "\n",
            "[%] Downloading Image #13 from http://www.truenorthmark.com/blog/wp-content/uploads/2013/06/Choo-Choo.jpg\n",
            "[!] Issue getting: http://www.truenorthmark.com/blog/wp-content/uploads/2013/06/Choo-Choo.jpg\n",
            "[!] Error:: <urlopen error [Errno -3] Temporary failure in name resolution>\n",
            "[%] Downloading Image #13 from http://3.bp.blogspot.com/_d8Ax3AKBzsM/S9TyBUcTTzI/AAAAAAAABXs/A2mSj7PIhIg/s1600/train6.jpg\n",
            "[%] File Downloaded !\n",
            "\n",
            "[%] Downloading Image #14 from https://i.pinimg.com/originals/21/73/b2/2173b28d62f6f3024aa923a4e5555589.jpg\n",
            "[%] File Downloaded !\n",
            "\n",
            "[%] Downloading Image #15 from https://mommyp-prod.s3.amazonaws.com/website-images-train-platform.jpg\n",
            "[%] File Downloaded !\n",
            "\n",
            "[%] Downloading Image #16 from https://i.ytimg.com/vi/F4IP-9OospQ/maxresdefault.jpg\n",
            "[%] File Downloaded !\n",
            "\n",
            "[%] Downloading Image #17 from https://i.pinimg.com/originals/01/71/af/0171afcb597bf8a20cf508ead47cb9c9.jpg\n",
            "[%] File Downloaded !\n",
            "\n",
            "[%] Downloading Image #18 from http://www.torontorealtyblog.com/wp-content/uploads/2016/05/Train.jpg\n",
            "[%] File Downloaded !\n",
            "\n",
            "[%] Downloading Image #19 from https://s22658.pcdn.co/wp-content/uploads/2013/07/mount-rainier-railroad.jpg.optimal.jpg\n",
            "[%] File Downloaded !\n",
            "\n",
            "[%] Downloading Image #20 from https://tsgmultimedia.com/wp-content/uploads/2013/12/JPBX_MP36PH_926_2005_San_Francisco_CA_2.jpg\n",
            "[%] File Downloaded !\n",
            "\n",
            "[%] Downloading Image #21 from https://www.pwrs.ca/new_announcement_images/products/True_Line_Trains/Engines/MP36PH/Utah-FR.jpg\n",
            "[%] File Downloaded !\n",
            "\n",
            "[%] Downloading Image #22 from https://blog.midwestind.com/wp-content/uploads/2018/12/Lovely_Winter_Trainrides.jpg\n",
            "[%] File Downloaded !\n",
            "\n",
            "[%] Downloading Image #23 from http://www.railpictures.ca/wp-content/uploads/2018/11/IMG_4392-1280x865.jpg\n",
            "[%] File Downloaded !\n",
            "\n",
            "[%] Downloading Image #24 from https://i.redd.it/7iq7zvpdk2m41.jpg\n",
            "[%] File Downloaded !\n",
            "\n",
            "[%] Downloading Image #25 from https://s22658.pcdn.co/wp-content/uploads/2013/07/texas-state-railroad.jpg.optimal.jpg\n",
            "[%] File Downloaded !\n",
            "\n",
            "[%] Downloading Image #26 from https://s24990.pcdn.co/wp-content/uploads/2016/11/Train1.jpg\n",
            "[%] File Downloaded !\n",
            "\n",
            "[%] Downloading Image #27 from http://www.jessmountifield.co.uk/wp-content/uploads/2013/04/unstoppable-train.jpg\n",
            "[%] File Downloaded !\n",
            "\n",
            "[%] Downloading Image #28 from https://phoenixwolfj.com/wp-content/uploads/2020/03/website-cnrail.jpg\n",
            "[%] File Downloaded !\n",
            "\n",
            "[%] Downloading Image #29 from https://phoenixwolfj.com/wp-content/uploads/2020/02/website-bombardiertrain.jpg\n",
            "[%] File Downloaded !\n",
            "\n",
            "\n",
            "\n",
            "[!!]Indexing page: 2\n",
            "\n",
            "[%] Indexed 35 Images on Page 2.\n",
            "\n",
            "===============================================\n",
            "\n",
            "[%] Downloading Image #30 from https://i.pinimg.com/originals/1e/c5/a0/1ec5a03b40dcf61a300f08731f45b190.jpg\n",
            "[%] File Downloaded !\n",
            "\n",
            "\n",
            "\n",
            "[%] Done. Downloaded 30 images.\n",
            "===============================================\n",
            "\n",
            "Please show your support here\n",
            "https://www.buymeacoffee.com/gurugaurav\n",
            "\n",
            "===============================================\n",
            "\n"
          ]
        }
      ]
    },
    {
      "cell_type": "code",
      "metadata": {
        "id": "CbH5_-GZkOzP"
      },
      "source": [
        ""
      ],
      "execution_count": null,
      "outputs": []
    },
    {
      "cell_type": "code",
      "metadata": {
        "colab": {
          "base_uri": "https://localhost:8080/"
        },
        "id": "g9Gc-3cpkTco",
        "outputId": "8ac1fed3-d271-4325-8279-e9c0334323c4"
      },
      "source": [
        "from bing_image_downloader import downloader\n",
        "downloader.download(\"truck\",limit=30,output_dir='images',adult_filter_off=True)"
      ],
      "execution_count": null,
      "outputs": [
        {
          "output_type": "stream",
          "name": "stdout",
          "text": [
            "[%] Downloading Images to /content/images/truck\n",
            "\n",
            "\n",
            "[!!]Indexing page: 1\n",
            "\n",
            "[%] Indexed 30 Images on Page 1.\n",
            "\n",
            "===============================================\n",
            "\n",
            "[%] Downloading Image #1 from https://149348877.v2.pressablecdn.com/wp-content/uploads/2018/11/international-cv-truck-for-sale-nashville-tn01-1080x675.jpg\n",
            "[%] File Downloaded !\n",
            "\n",
            "[%] Downloading Image #2 from https://www.tfltruck.com/wp-content/uploads/2018/11/rivian-r1t-electric-truck-crew-cab.jpg\n",
            "[%] File Downloaded !\n",
            "\n",
            "[%] Downloading Image #3 from https://100hotcars.info/wp-content/uploads/2019/11/fiats-new-toro-sports-pickup-truck-shows-its-true-face-in-official-photo.jpg\n",
            "[%] File Downloaded !\n",
            "\n",
            "[%] Downloading Image #4 from https://st.hotrod.com/uploads/sites/21/2015/02/1949-chevrolet-3100-rear-driver-side.jpg\n",
            "[%] File Downloaded !\n",
            "\n",
            "[%] Downloading Image #5 from https://topworldauto.com/photos/Mack/6a/a5/24668_mack-rd600-true-truck-value-true-truck-value.jpg\n",
            "[%] File Downloaded !\n",
            "\n",
            "[%] Downloading Image #6 from https://forddaily.net/attachments/airborne-1969-f100-tube-chassis-mega-truck-5-jpg.5812/\n",
            "[%] File Downloaded !\n",
            "\n",
            "[%] Downloading Image #7 from https://s3.birthmoviesdeath.com/images/made/Truck_1200_722_81_s.jpg\n",
            "[%] File Downloaded !\n",
            "\n",
            "[%] Downloading Image #8 from https://www.wecoradio.com/wp-content/uploads/2013/10/Fire-truck.jpg\n",
            "[%] File Downloaded !\n",
            "\n",
            "[%] Downloading Image #9 from http://davidsclassiccars.com/images/full/1965-ford-e100-truck-og-paint-cancer-free-true-survivor-spring-special-3.jpg\n",
            "[%] File Downloaded !\n",
            "\n",
            "[%] Downloading Image #10 from https://cdn.now.howstuffworks.com/media-content/aa3a529d-6780-4224-822e-b1069035e3bf-1210-680.jpg\n",
            "[%] File Downloaded !\n",
            "\n",
            "[%] Downloading Image #11 from http://monster-trucks-for-sale.com/wp-content/monster-trucks-for-sale.com/2017/05/true-head-turner-1970-international-harvester-scout-monster-truck-for-sale-2017-05-19-1.jpg\n",
            "[%] File Downloaded !\n",
            "\n",
            "[%] Downloading Image #12 from https://cimg2.ibsrv.net/gimg/www.ford-trucks.com-vbulletin/1600x900/sequoia_internetbrands_eb432464cd01bdb086f6153f0a6913cf88f1509c.jpg\n",
            "[%] File Downloaded !\n",
            "\n",
            "[%] Downloading Image #13 from https://www.hobbyexpress.com.au/assets/full/PR3461-00.jpg?20210309031726\n",
            "[%] File Downloaded !\n",
            "\n",
            "[%] Downloading Image #14 from https://i.pinimg.com/originals/11/80/7f/11807fcf5fe20337a08725955faba17d.jpg\n",
            "[%] File Downloaded !\n",
            "\n",
            "[%] Downloading Image #15 from https://gearopen.com/wp-content/uploads/2021/01/2022-ford-maverick-rendering.jpg\n",
            "[%] File Downloaded !\n",
            "\n",
            "[%] Downloading Image #16 from https://car-from-uk.com/ebay/carphotos/full/ebay874572.jpg\n",
            "[%] File Downloaded !\n",
            "\n",
            "[%] Downloading Image #17 from http://www.indiewire.com/wp-content/uploads/2017/04/screen-shot-2017-04-17-at-08-34-41.png?w=780\n",
            "[%] File Downloaded !\n",
            "\n",
            "[%] Downloading Image #18 from https://www.kloompy.com/oc-content/uploads/266/430111.jpg\n",
            "[%] File Downloaded !\n",
            "\n",
            "[%] Downloading Image #19 from http://www.familybeforefortune.com/wp-content/uploads/2015/07/dirty-truck.jpg\n",
            "[%] File Downloaded !\n",
            "\n",
            "[%] Downloading Image #20 from https://pickuptruckeu.com/wp-content/uploads/2021/01/new-2022-ford-maverick-could-be-a-true-compact-truck-scaled.jpg\n",
            "[%] File Downloaded !\n",
            "\n",
            "[%] Downloading Image #21 from https://buzzdrives.com/wp-content/uploads/2017/04/2..jpeg\n",
            "[%] File Downloaded !\n",
            "\n",
            "[%] Downloading Image #22 from https://forddaily.net/attachments/airborne-1969-f100-tube-chassis-mega-truck-6-jpg.5813/\n",
            "[%] File Downloaded !\n",
            "\n",
            "[%] Downloading Image #23 from https://canadiantruckkingchallenge.ca/wp-content/uploads/2020_Toyota_Tundra_TRD_Pro-1-2.jpg\n",
            "[%] File Downloaded !\n",
            "\n",
            "[%] Downloading Image #24 from https://img.sm360.ca/ir/w1024h768/images/inventory/true-north-chevrolet-cadillac-ltd/chevrolet-truck/silverado-1500/2016/6233860/6233860_01123_2016-chevrolet-truck-silverado-1500_001.jpg\n",
            "[%] File Downloaded !\n",
            "\n",
            "[%] Downloading Image #25 from https://img.sm360.ca/ir/w1024h768/images/inventory/true-north-chevrolet-cadillac-ltd/chevrolet-truck/silverado-1500/2018/7042972/7042972_00847_2018-chevrolet-truck-silverado-1500_001.jpg\n",
            "[%] File Downloaded !\n",
            "\n",
            "[%] Downloading Image #26 from https://www.trucksnl.com/pictures/ad-6363422-00d5f06b018b1bc1/tow_recovery_truck_scania_r560_la6x2hna_rescue_truck_triple_k_true_tilt_2011_6363422.jpg?format=jpg&amp;quality=70&amp;w=1110&amp;h=832\n",
            "[Error]Invalid image, not saving https://www.trucksnl.com/pictures/ad-6363422-00d5f06b018b1bc1/tow_recovery_truck_scania_r560_la6x2hna_rescue_truck_triple_k_true_tilt_2011_6363422.jpg?format=jpg&amp;quality=70&amp;w=1110&amp;h=832\n",
            "\n",
            "[!] Issue getting: https://www.trucksnl.com/pictures/ad-6363422-00d5f06b018b1bc1/tow_recovery_truck_scania_r560_la6x2hna_rescue_truck_triple_k_true_tilt_2011_6363422.jpg?format=jpg&amp;quality=70&amp;w=1110&amp;h=832\n",
            "[!] Error:: Invalid image, not saving https://www.trucksnl.com/pictures/ad-6363422-00d5f06b018b1bc1/tow_recovery_truck_scania_r560_la6x2hna_rescue_truck_triple_k_true_tilt_2011_6363422.jpg?format=jpg&amp;quality=70&amp;w=1110&amp;h=832\n",
            "\n",
            "[%] Downloading Image #26 from https://img.sm360.ca/ir/w940/images/inventory/true-north-chevrolet-cadillac-ltd/chevrolet-truck/silverado-1500/2017/6841055/6841055_03574_2017-chevrolet-truck-silverado-1500_001.jpg\n",
            "[%] File Downloaded !\n",
            "\n",
            "[%] Downloading Image #27 from https://www.trucksnl.com/pictures/ad-6363422-6655f06b01e843fe/tow_recovery_truck_scania_r560_la6x2hna_rescue_truck_triple_k_true_tilt_2011_6363422-26.jpg?format=jpg&amp;quality=70&amp;w=1110&amp;h=832\n",
            "[Error]Invalid image, not saving https://www.trucksnl.com/pictures/ad-6363422-6655f06b01e843fe/tow_recovery_truck_scania_r560_la6x2hna_rescue_truck_triple_k_true_tilt_2011_6363422-26.jpg?format=jpg&amp;quality=70&amp;w=1110&amp;h=832\n",
            "\n",
            "[!] Issue getting: https://www.trucksnl.com/pictures/ad-6363422-6655f06b01e843fe/tow_recovery_truck_scania_r560_la6x2hna_rescue_truck_triple_k_true_tilt_2011_6363422-26.jpg?format=jpg&amp;quality=70&amp;w=1110&amp;h=832\n",
            "[!] Error:: Invalid image, not saving https://www.trucksnl.com/pictures/ad-6363422-6655f06b01e843fe/tow_recovery_truck_scania_r560_la6x2hna_rescue_truck_triple_k_true_tilt_2011_6363422-26.jpg?format=jpg&amp;quality=70&amp;w=1110&amp;h=832\n",
            "\n",
            "[%] Downloading Image #27 from https://i.pinimg.com/originals/af/8c/de/af8cdea6b3a6f9a2f59094fdd5385c5a.jpg\n",
            "[%] File Downloaded !\n",
            "\n",
            "[%] Downloading Image #28 from http://images.gtcarlot.com/pictures/26528603.jpg\n",
            "[%] File Downloaded !\n",
            "\n",
            "\n",
            "\n",
            "[!!]Indexing page: 2\n",
            "\n",
            "[%] Indexed 35 Images on Page 2.\n",
            "\n",
            "===============================================\n",
            "\n",
            "[%] Downloading Image #29 from https://149348877.v2.pressablecdn.com/wp-content/uploads/2018/11/international-cv-truck-for-sale-nashville-tn01-1080x675.jpg\n",
            "[%] File Downloaded !\n",
            "\n",
            "[%] Downloading Image #30 from https://www.tfltruck.com/wp-content/uploads/2018/11/rivian-r1t-electric-truck-crew-cab.jpg\n",
            "[%] File Downloaded !\n",
            "\n",
            "\n",
            "\n",
            "[%] Done. Downloaded 30 images.\n",
            "===============================================\n",
            "\n",
            "Please show your support here\n",
            "https://www.buymeacoffee.com/gurugaurav\n",
            "\n",
            "===============================================\n",
            "\n"
          ]
        }
      ]
    },
    {
      "cell_type": "code",
      "metadata": {
        "id": "P0OCJ7Y0RGQl"
      },
      "source": [
        "#preprocessing\n",
        "import os\n",
        "import matplotlib.pyplot as plt\n",
        "import numpy as np\n",
        "from skimage.io import imread\n",
        "from skimage.transform import resize\n",
        "\n",
        "target=[]#outputs\n",
        "images=[]#data given(input)\n",
        "flatten_data=[]\n",
        "\n",
        "datadir = \"/content/images\"\n",
        "\n",
        "categories = [\"motorbikes\",'train','truck']\n",
        "\n",
        "for category in categories:\n",
        "  class_num =categories.index(category) #label encoding the values of list categories\n",
        "  path = os.path.join(datadir,category) #iterate through the images\n",
        "  for img in os.listdir(path):\n",
        "    img_arr = imread(os.path.join(path,img))\n",
        "    img_resized =resize(img_arr,(150,150,3)) #normalize the values\n",
        "    flatten_data.append(img_resized.flatten())\n",
        "    images.append(img_resized)\n",
        "    target.append(class_num)\n",
        "\n",
        "flatten_data=np.array(flatten_data)\n",
        "target = np.array(target)\n",
        "images = np.array(images)\n"
      ],
      "execution_count": null,
      "outputs": []
    },
    {
      "cell_type": "code",
      "metadata": {
        "id": "ePN9FActukvA"
      },
      "source": [
        "#traininng and testing using svm\n",
        "from sklearn.model_selection import train_test_split\n",
        "x_train,x_test,y_train,y_test = train_test_split(flatten_data,target,test_size=0.3,random_state=109)\n"
      ],
      "execution_count": null,
      "outputs": []
    },
    {
      "cell_type": "code",
      "metadata": {
        "id": "McPfVHIs2c9r",
        "colab": {
          "base_uri": "https://localhost:8080/"
        },
        "outputId": "74b01f80-5c05-4f51-f664-cee0e08240cd"
      },
      "source": [
        "from sklearn.model_selection import GridSearchCV \n",
        "from sklearn import svm\n",
        "paramgrid = [ {'C':[1,10,100,1000],'kernel':['linear']},\n",
        "              {'C':[1,10,100,1000],'gamma':[0.001,0.0001],'kernel':['rbf']},\n",
        "              ] \n",
        "svc = svm.SVC(probability=True) \n",
        "clf = GridSearchCV(svc,paramgrid) \n",
        "clf.fit(x_train,y_train)"
      ],
      "execution_count": null,
      "outputs": [
        {
          "output_type": "execute_result",
          "data": {
            "text/plain": [
              "GridSearchCV(estimator=SVC(probability=True),\n",
              "             param_grid=[{'C': [1, 10, 100, 1000], 'kernel': ['linear']},\n",
              "                         {'C': [1, 10, 100, 1000], 'gamma': [0.001, 0.0001],\n",
              "                          'kernel': ['rbf']}])"
            ]
          },
          "metadata": {},
          "execution_count": 21
        }
      ]
    },
    {
      "cell_type": "code",
      "metadata": {
        "id": "_7gmRVLz5Gha"
      },
      "source": [
        "#saveing the trained model using pickle library\n",
        "import pickle\n",
        "pickle.dump(clf,open('img_model.p','wb'))"
      ],
      "execution_count": null,
      "outputs": []
    },
    {
      "cell_type": "code",
      "metadata": {
        "id": "2HQIs5586C6A"
      },
      "source": [
        "model = pickle.load(open('img_model.p','rb'))"
      ],
      "execution_count": null,
      "outputs": []
    },
    {
      "cell_type": "code",
      "metadata": {
        "id": "ZSUJVMlU6SM8",
        "colab": {
          "base_uri": "https://localhost:8080/",
          "height": 321
        },
        "outputId": "9a4e8821-e709-4c9c-dc1f-22fd513539b9"
      },
      "source": [
        "#testing a new image\n",
        "flatten_data=[]\n",
        "url=input(\"enter your url\")\n",
        "img = imread(url)\n",
        "img_resized = resize(img,(150,150,3))\n",
        "flatten_data.append(img_resized.flatten())\n",
        "flatten_data = np.array(flatten_data)\n",
        "print(img.shape)\n",
        "plt.imshow(img_resized)\n",
        "y_out = model.predict(flatten_data)\n",
        "y_out = categories[y_out[0]]\n",
        "print(f'predicted output: {y_out}')"
      ],
      "execution_count": null,
      "outputs": [
        {
          "output_type": "stream",
          "name": "stdout",
          "text": [
            "enter your urlhttps://images.news18.com/ibnlive/uploads/2021/05/1620622932_train1.jpg?im=FitAndFill,width=1200,height=1200\n",
            "(1200, 1200, 3)\n",
            "predicted output: train\n"
          ]
        },
        {
          "output_type": "display_data",
          "data": {
            "image/png": "[encoded data removed]",
            "text/plain": [
              "<Figure size 432x288 with 1 Axes>"
            ]
          },
          "metadata": {
            "needs_background": "light"
          }
        }
      ]
    },
    {
      "cell_type": "code",
      "metadata": {
        "id": "oBMM3vEu_MXd",
        "colab": {
          "base_uri": "https://localhost:8080/"
        },
        "outputId": "b342477b-e455-4b57-e91c-eb50244ca0e0"
      },
      "source": [
        "!pip install streamlit\n",
        "!pip install pyngrok==4.1.1\n",
        "from pyngrok import ngrok"
      ],
      "execution_count": null,
      "outputs": [
        {
          "output_type": "stream",
          "name": "stdout",
          "text": [
            "Requirement already satisfied: streamlit in /usr/local/lib/python3.7/dist-packages (1.2.0)\n",
            "Requirement already satisfied: click<8.0,>=7.0 in /usr/local/lib/python3.7/dist-packages (from streamlit) (7.1.2)\n",
            "Requirement already satisfied: python-dateutil in /usr/local/lib/python3.7/dist-packages (from streamlit) (2.8.2)\n",
            "Requirement already satisfied: altair>=3.2.0 in /usr/local/lib/python3.7/dist-packages (from streamlit) (4.1.0)\n",
            "Requirement already satisfied: numpy in /usr/local/lib/python3.7/dist-packages (from streamlit) (1.19.5)\n",
            "Requirement already satisfied: astor in /usr/local/lib/python3.7/dist-packages (from streamlit) (0.8.1)\n",
            "Requirement already satisfied: blinker in /usr/local/lib/python3.7/dist-packages (from streamlit) (1.4)\n",
            "Requirement already satisfied: requests in /usr/local/lib/python3.7/dist-packages (from streamlit) (2.23.0)\n",
            "Requirement already satisfied: tornado>=5.0 in /usr/local/lib/python3.7/dist-packages (from streamlit) (5.1.1)\n",
            "Requirement already satisfied: attrs in /usr/local/lib/python3.7/dist-packages (from streamlit) (21.2.0)\n",
            "Requirement already satisfied: pyarrow in /usr/local/lib/python3.7/dist-packages (from streamlit) (3.0.0)\n",
            "Requirement already satisfied: pympler>=0.9 in /usr/local/lib/python3.7/dist-packages (from streamlit) (0.9)\n",
            "Requirement already satisfied: pydeck>=0.1.dev5 in /usr/local/lib/python3.7/dist-packages (from streamlit) (0.7.1)\n",
            "Requirement already satisfied: cachetools>=4.0 in /usr/local/lib/python3.7/dist-packages (from streamlit) (4.2.4)\n",
            "Requirement already satisfied: gitpython!=3.1.19 in /usr/local/lib/python3.7/dist-packages (from streamlit) (3.1.24)\n",
            "Requirement already satisfied: base58 in /usr/local/lib/python3.7/dist-packages (from streamlit) (2.1.1)\n",
            "Requirement already satisfied: validators in /usr/local/lib/python3.7/dist-packages (from streamlit) (0.18.2)\n",
            "Requirement already satisfied: pillow>=6.2.0 in /usr/local/lib/python3.7/dist-packages (from streamlit) (7.1.2)\n",
            "Requirement already satisfied: packaging in /usr/local/lib/python3.7/dist-packages (from streamlit) (21.2)\n",
            "Requirement already satisfied: watchdog in /usr/local/lib/python3.7/dist-packages (from streamlit) (2.1.6)\n",
            "Requirement already satisfied: protobuf!=3.11,>=3.6.0 in /usr/local/lib/python3.7/dist-packages (from streamlit) (3.17.3)\n",
            "Requirement already satisfied: tzlocal in /usr/local/lib/python3.7/dist-packages (from streamlit) (1.5.1)\n",
            "Requirement already satisfied: pandas>=0.21.0 in /usr/local/lib/python3.7/dist-packages (from streamlit) (1.1.5)\n",
            "Requirement already satisfied: toml in /usr/local/lib/python3.7/dist-packages (from streamlit) (0.10.2)\n",
            "Requirement already satisfied: jinja2 in /usr/local/lib/python3.7/dist-packages (from altair>=3.2.0->streamlit) (2.11.3)\n",
            "Requirement already satisfied: toolz in /usr/local/lib/python3.7/dist-packages (from altair>=3.2.0->streamlit) (0.11.2)\n",
            "Requirement already satisfied: jsonschema in /usr/local/lib/python3.7/dist-packages (from altair>=3.2.0->streamlit) (2.6.0)\n",
            "Requirement already satisfied: entrypoints in /usr/local/lib/python3.7/dist-packages (from altair>=3.2.0->streamlit) (0.3)\n",
            "Requirement already satisfied: gitdb<5,>=4.0.1 in /usr/local/lib/python3.7/dist-packages (from gitpython!=3.1.19->streamlit) (4.0.9)\n",
            "Requirement already satisfied: typing-extensions>=3.7.4.3 in /usr/local/lib/python3.7/dist-packages (from gitpython!=3.1.19->streamlit) (3.10.0.2)\n",
            "Requirement already satisfied: smmap<6,>=3.0.1 in /usr/local/lib/python3.7/dist-packages (from gitdb<5,>=4.0.1->gitpython!=3.1.19->streamlit) (5.0.0)\n",
            "Requirement already satisfied: pytz>=2017.2 in /usr/local/lib/python3.7/dist-packages (from pandas>=0.21.0->streamlit) (2018.9)\n",
            "Requirement already satisfied: six>=1.9 in /usr/local/lib/python3.7/dist-packages (from protobuf!=3.11,>=3.6.0->streamlit) (1.15.0)\n",
            "Requirement already satisfied: ipywidgets>=7.0.0 in /usr/local/lib/python3.7/dist-packages (from pydeck>=0.1.dev5->streamlit) (7.6.5)\n",
            "Requirement already satisfied: ipykernel>=5.1.2 in /usr/local/lib/python3.7/dist-packages (from pydeck>=0.1.dev5->streamlit) (6.5.1)\n",
            "Requirement already satisfied: traitlets>=4.3.2 in /usr/local/lib/python3.7/dist-packages (from pydeck>=0.1.dev5->streamlit) (5.1.1)\n",
            "Requirement already satisfied: debugpy<2.0,>=1.0.0 in /usr/local/lib/python3.7/dist-packages (from ipykernel>=5.1.2->pydeck>=0.1.dev5->streamlit) (1.0.0)\n",
            "Requirement already satisfied: importlib-metadata<5 in /usr/local/lib/python3.7/dist-packages (from ipykernel>=5.1.2->pydeck>=0.1.dev5->streamlit) (4.8.2)\n",
            "Requirement already satisfied: argcomplete>=1.12.3 in /usr/local/lib/python3.7/dist-packages (from ipykernel>=5.1.2->pydeck>=0.1.dev5->streamlit) (1.12.3)\n",
            "Requirement already satisfied: jupyter-client<8.0 in /usr/local/lib/python3.7/dist-packages (from ipykernel>=5.1.2->pydeck>=0.1.dev5->streamlit) (5.3.5)\n",
            "Requirement already satisfied: ipython>=7.23.1 in /usr/local/lib/python3.7/dist-packages (from ipykernel>=5.1.2->pydeck>=0.1.dev5->streamlit) (7.29.0)\n",
            "Requirement already satisfied: matplotlib-inline<0.2.0,>=0.1.0 in /usr/local/lib/python3.7/dist-packages (from ipykernel>=5.1.2->pydeck>=0.1.dev5->streamlit) (0.1.3)\n",
            "Requirement already satisfied: zipp>=0.5 in /usr/local/lib/python3.7/dist-packages (from importlib-metadata<5->ipykernel>=5.1.2->pydeck>=0.1.dev5->streamlit) (3.6.0)\n",
            "Requirement already satisfied: backcall in /usr/local/lib/python3.7/dist-packages (from ipython>=7.23.1->ipykernel>=5.1.2->pydeck>=0.1.dev5->streamlit) (0.2.0)\n",
            "Requirement already satisfied: pygments in /usr/local/lib/python3.7/dist-packages (from ipython>=7.23.1->ipykernel>=5.1.2->pydeck>=0.1.dev5->streamlit) (2.6.1)\n",
            "Requirement already satisfied: pexpect>4.3 in /usr/local/lib/python3.7/dist-packages (from ipython>=7.23.1->ipykernel>=5.1.2->pydeck>=0.1.dev5->streamlit) (4.8.0)\n",
            "Requirement already satisfied: jedi>=0.16 in /usr/local/lib/python3.7/dist-packages (from ipython>=7.23.1->ipykernel>=5.1.2->pydeck>=0.1.dev5->streamlit) (0.18.0)\n",
            "Requirement already satisfied: pickleshare in /usr/local/lib/python3.7/dist-packages (from ipython>=7.23.1->ipykernel>=5.1.2->pydeck>=0.1.dev5->streamlit) (0.7.5)\n",
            "Requirement already satisfied: prompt-toolkit!=3.0.0,!=3.0.1,<3.1.0,>=2.0.0 in /usr/local/lib/python3.7/dist-packages (from ipython>=7.23.1->ipykernel>=5.1.2->pydeck>=0.1.dev5->streamlit) (3.0.22)\n",
            "Requirement already satisfied: setuptools>=18.5 in /usr/local/lib/python3.7/dist-packages (from ipython>=7.23.1->ipykernel>=5.1.2->pydeck>=0.1.dev5->streamlit) (57.4.0)\n",
            "Requirement already satisfied: decorator in /usr/local/lib/python3.7/dist-packages (from ipython>=7.23.1->ipykernel>=5.1.2->pydeck>=0.1.dev5->streamlit) (4.4.2)\n",
            "Requirement already satisfied: jupyterlab-widgets>=1.0.0 in /usr/local/lib/python3.7/dist-packages (from ipywidgets>=7.0.0->pydeck>=0.1.dev5->streamlit) (1.0.2)\n",
            "Requirement already satisfied: nbformat>=4.2.0 in /usr/local/lib/python3.7/dist-packages (from ipywidgets>=7.0.0->pydeck>=0.1.dev5->streamlit) (5.1.3)\n",
            "Requirement already satisfied: widgetsnbextension~=3.5.0 in /usr/local/lib/python3.7/dist-packages (from ipywidgets>=7.0.0->pydeck>=0.1.dev5->streamlit) (3.5.2)\n",
            "Requirement already satisfied: ipython-genutils~=0.2.0 in /usr/local/lib/python3.7/dist-packages (from ipywidgets>=7.0.0->pydeck>=0.1.dev5->streamlit) (0.2.0)\n",
            "Requirement already satisfied: parso<0.9.0,>=0.8.0 in /usr/local/lib/python3.7/dist-packages (from jedi>=0.16->ipython>=7.23.1->ipykernel>=5.1.2->pydeck>=0.1.dev5->streamlit) (0.8.2)\n",
            "Requirement already satisfied: MarkupSafe>=0.23 in /usr/local/lib/python3.7/dist-packages (from jinja2->altair>=3.2.0->streamlit) (2.0.1)\n",
            "Requirement already satisfied: pyzmq>=13 in /usr/local/lib/python3.7/dist-packages (from jupyter-client<8.0->ipykernel>=5.1.2->pydeck>=0.1.dev5->streamlit) (22.3.0)\n",
            "Requirement already satisfied: jupyter-core>=4.6.0 in /usr/local/lib/python3.7/dist-packages (from jupyter-client<8.0->ipykernel>=5.1.2->pydeck>=0.1.dev5->streamlit) (4.9.1)\n",
            "Requirement already satisfied: ptyprocess>=0.5 in /usr/local/lib/python3.7/dist-packages (from pexpect>4.3->ipython>=7.23.1->ipykernel>=5.1.2->pydeck>=0.1.dev5->streamlit) (0.7.0)\n",
            "Requirement already satisfied: wcwidth in /usr/local/lib/python3.7/dist-packages (from prompt-toolkit!=3.0.0,!=3.0.1,<3.1.0,>=2.0.0->ipython>=7.23.1->ipykernel>=5.1.2->pydeck>=0.1.dev5->streamlit) (0.2.5)\n",
            "Requirement already satisfied: notebook>=4.4.1 in /usr/local/lib/python3.7/dist-packages (from widgetsnbextension~=3.5.0->ipywidgets>=7.0.0->pydeck>=0.1.dev5->streamlit) (5.3.1)\n",
            "Requirement already satisfied: terminado>=0.8.1 in /usr/local/lib/python3.7/dist-packages (from notebook>=4.4.1->widgetsnbextension~=3.5.0->ipywidgets>=7.0.0->pydeck>=0.1.dev5->streamlit) (0.12.1)\n",
            "Requirement already satisfied: nbconvert in /usr/local/lib/python3.7/dist-packages (from notebook>=4.4.1->widgetsnbextension~=3.5.0->ipywidgets>=7.0.0->pydeck>=0.1.dev5->streamlit) (5.6.1)\n",
            "Requirement already satisfied: Send2Trash in /usr/local/lib/python3.7/dist-packages (from notebook>=4.4.1->widgetsnbextension~=3.5.0->ipywidgets>=7.0.0->pydeck>=0.1.dev5->streamlit) (1.8.0)\n",
            "Requirement already satisfied: testpath in /usr/local/lib/python3.7/dist-packages (from nbconvert->notebook>=4.4.1->widgetsnbextension~=3.5.0->ipywidgets>=7.0.0->pydeck>=0.1.dev5->streamlit) (0.5.0)\n",
            "Requirement already satisfied: defusedxml in /usr/local/lib/python3.7/dist-packages (from nbconvert->notebook>=4.4.1->widgetsnbextension~=3.5.0->ipywidgets>=7.0.0->pydeck>=0.1.dev5->streamlit) (0.7.1)\n",
            "Requirement already satisfied: mistune<2,>=0.8.1 in /usr/local/lib/python3.7/dist-packages (from nbconvert->notebook>=4.4.1->widgetsnbextension~=3.5.0->ipywidgets>=7.0.0->pydeck>=0.1.dev5->streamlit) (0.8.4)\n",
            "Requirement already satisfied: bleach in /usr/local/lib/python3.7/dist-packages (from nbconvert->notebook>=4.4.1->widgetsnbextension~=3.5.0->ipywidgets>=7.0.0->pydeck>=0.1.dev5->streamlit) (4.1.0)\n",
            "Requirement already satisfied: pandocfilters>=1.4.1 in /usr/local/lib/python3.7/dist-packages (from nbconvert->notebook>=4.4.1->widgetsnbextension~=3.5.0->ipywidgets>=7.0.0->pydeck>=0.1.dev5->streamlit) (1.5.0)\n",
            "Requirement already satisfied: webencodings in /usr/local/lib/python3.7/dist-packages (from bleach->nbconvert->notebook>=4.4.1->widgetsnbextension~=3.5.0->ipywidgets>=7.0.0->pydeck>=0.1.dev5->streamlit) (0.5.1)\n",
            "Requirement already satisfied: pyparsing<3,>=2.0.2 in /usr/local/lib/python3.7/dist-packages (from packaging->streamlit) (2.4.7)\n",
            "Requirement already satisfied: idna<3,>=2.5 in /usr/local/lib/python3.7/dist-packages (from requests->streamlit) (2.10)\n",
            "Requirement already satisfied: urllib3!=1.25.0,!=1.25.1,<1.26,>=1.21.1 in /usr/local/lib/python3.7/dist-packages (from requests->streamlit) (1.24.3)\n",
            "Requirement already satisfied: chardet<4,>=3.0.2 in /usr/local/lib/python3.7/dist-packages (from requests->streamlit) (3.0.4)\n",
            "Requirement already satisfied: certifi>=2017.4.17 in /usr/local/lib/python3.7/dist-packages (from requests->streamlit) (2021.10.8)\n",
            "Requirement already satisfied: pyngrok==4.1.1 in /usr/local/lib/python3.7/dist-packages (4.1.1)\n",
            "Requirement already satisfied: PyYAML in /usr/local/lib/python3.7/dist-packages (from pyngrok==4.1.1) (3.13)\n",
            "Requirement already satisfied: future in /usr/local/lib/python3.7/dist-packages (from pyngrok==4.1.1) (0.16.0)\n"
          ]
        }
      ]
    },
    {
      "cell_type": "code",
      "metadata": {
        "colab": {
          "base_uri": "https://localhost:8080/"
        },
        "id": "-SV9KkAfDraj",
        "outputId": "134b2614-4f5a-46aa-e177-3c8e6474e6d7"
      },
      "source": [
        "%%writefile app.py\n",
        "#Deployment using Streamit\n",
        "\n",
        "import streamlit as st\n",
        "import numpy as np\n",
        "from skimage.io import imread\n",
        "from skimage.transform import resize\n",
        "import pickle\n",
        "from PIL import Image\n",
        "st.set_option(\"deprecation.showfileUploaderEncoding\",False)\n",
        "st.title(\"Image Classifier using Machine Learning\")\n",
        "st.text(\"upload an Image\")\n",
        "model = pickle.load(open('img_model.p','rb'))\n",
        "uploaded_file = st.file_uploader(\"Choose an Image...\",type='jpg')\n",
        "if uploaded_file is not None:\n",
        "  img = Image.open(uploaded_file)\n",
        "  st.image(img,caption='Uploaded Image')\n",
        "  if st.button(\"PREDICT\"):\n",
        "    categories = [\"motorbikes\",'train','truck']\n",
        "    st.write(\"Result...\")\n",
        "    flatten_data=[]\n",
        "    img = np.array(img)\n",
        "    img_resized = resize(img,(150,150,3))\n",
        "    flatten_data.append(img_resized.flatten())\n",
        "    flatten_data = np.array(flatten_data)\n",
        "    y_out = model.predict(flatten_data)\n",
        "    y_out = categories[y_out[0]]\n",
        "    st.write(f'predicted output: {y_out}')"
      ],
      "execution_count": null,
      "outputs": [
        {
          "output_type": "stream",
          "name": "stdout",
          "text": [
            "Overwriting app.py\n"
          ]
        }
      ]
    },
    {
      "cell_type": "code",
      "metadata": {
        "colab": {
          "base_uri": "https://localhost:8080/",
          "height": 53
        },
        "id": "mg6euNs0R6ZN",
        "outputId": "10e36a61-f1df-4efd-dae9-6cf031660419"
      },
      "source": [
        "!nohup streamlit run app.py &\n",
        "url = ngrok.connect(port='8501')\n",
        "url"
      ],
      "execution_count": null,
      "outputs": [
        {
          "output_type": "stream",
          "name": "stdout",
          "text": [
            "nohup: appending output to 'nohup.out'\n"
          ]
        },
        {
          "output_type": "execute_result",
          "data": {
            "application/vnd.google.colaboratory.intrinsic+json": {
              "type": "string"
            },
            "text/plain": [
              "'http://869e-104-154-46-162.ngrok.io'"
            ]
          },
          "metadata": {},
          "execution_count": 27
        }
      ]
    }
  ]
}